{
 "cells": [
  {
   "cell_type": "code",
   "execution_count": null,
   "id": "d93eee6c-f3c8-4da2-9a6d-ecfc8e3d23af",
   "metadata": {},
   "outputs": [],
   "source": []
  }
 ],
 "metadata": {
  "kernelspec": {
   "display_name": "",
   "name": ""
  },
  "language_info": {
   "name": ""
  }
 },
 "nbformat": 4,
 "nbformat_minor": 5
}
